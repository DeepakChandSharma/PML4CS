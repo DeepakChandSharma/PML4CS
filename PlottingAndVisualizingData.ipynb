{

 "cells": [
  {
   "cell_type": "code",
   "execution_count": null,
   "metadata": {},
   "outputs": [],
   "source": [
    "#import\n",
    "import numpy as np\n",
    "import pandas as pd  \n",
    "import matplotlib.pyplot as plt"
   ]
  },
  {
   "cell_type": "code",
   "execution_count": null,
   "metadata": {},
   "outputs": [],
   "source": [
    "#References:\n",
    "#https://www.edureka.co/blog/python-matplotlib-tutorial/ \n",
    "#https://www.datacamp.com/community/tutorials/matplotlib-tutorial-python \n",
    "#https://pandas.pydata.org/pandas-docs/stable/user_guide/visualization.html \n"
   ]
  },
  {
   "cell_type": "code",
   "execution_count": null,
   "metadata": {},
   "outputs": [],
   "source": [
    "#Plotting a line chart\n",
    "x = np.linspace(0, 10, 100) #(start, stop, number)\n",
    "print(x)\n",
    "\n",
    "plt.plot(x, x, label='linear',color='b')\n",
    "plt.legend()\n",
    "plt.xlabel(\"X-axis\")\n",
    "plt.ylabel(\"Y-axis\")\n",
    "plt.title(\"First Plot\")\n",
    "plt.show()"
   ]
  },
  {
   "cell_type": "code",
   "execution_count": null,
   "metadata": {},
   "outputs": [],
   "source": [
    "#plotting multi line with background\n",
    "from matplotlib import style\n",
    " \n",
    "style.use('ggplot')\n",
    "x1 = [5,8,10]\n",
    "y1 = [12,16,6]\n",
    "x2 = [6,9,11]\n",
    "y2 = [6,15,7]\n",
    "plt.plot(x1,y1,'g',label='First Line', linewidth=5)\n",
    "plt.plot(x2,y2,'b',label='Second Line',linewidth=5)\n",
    "plt.title('New Graph')\n",
    "plt.ylabel('Y axis')\n",
    "plt.xlabel('X axis')\n",
    "plt.legend()\n",
    "plt.grid(True,color='k')\n",
    "plt.show()"
   ]
  },
  {
   "cell_type": "code",
   "execution_count": null,
   "metadata": {},
   "outputs": [],
   "source": [
    "# plotting bar graph\n",
    "fig = plt.figure(figsize=(20,10))\n",
    "ax1 = fig.add_subplot(121) #1x2 grid 1st subplot\n",
    "ax2 = fig.add_subplot(122) #1x2 grid 2nd subplot\n",
    "\n",
    "ax1.bar([1,2,3],[3,4,5],color='b')\n",
    "ax2.barh([0.5,1,2.5],[0,1,2],color='b')\n",
    "\n",
    "plt.show()"
   ]
  },
  {
   "cell_type": "code",
   "execution_count": null,
   "metadata": {},
   "outputs": [],
   "source": [
    "#plot multi bar\n",
    "\n",
    "plt.bar([0.25,1.25,2.25,3.25,4.25],[50,40,70,80,20],label=\"Car1\",color='b', width=.5)\n",
    "plt.bar([.75,1.75,2.75,3.75,4.75],[80,20,20,50,60], label=\"Car2\", color='r',width=.5)\n",
    "plt.legend()\n",
    "plt.xlabel('Days')\n",
    "plt.ylabel('Distance (kms)')\n",
    "plt.title('Car Info')\n",
    "plt.show()"
   ]
  },
  {
   "cell_type": "code",
   "execution_count": null,
   "metadata": {},
   "outputs": [],
   "source": [
    "#plot histogram\n",
    "population_age = [22,55,62,45,21,22,34,42,42,4,2,102,95,85,55,110,120,70,65,55,111,115,80,75,65,54,44,43,42,48]\n",
    "bins = [0,10,20,30,40,50,60,70,80,90,100]\n",
    "plt.hist(population_age, bins, histtype='bar', color='b',rwidth=0.8)\n",
    "plt.xlabel('Age Groups')\n",
    "plt.ylabel('Number of people')\n",
    "plt.title('Histogram')\n",
    "plt.show()"
   ]
  },
  {
   "cell_type": "code",
   "execution_count": null,
   "metadata": {},
   "outputs": [],
   "source": [
    "#plot area\n",
    "days = [1,2,3,4,5]\n",
    "  \n",
    "sleeping =[7,8,6,11,7]\n",
    "eating = [2,3,4,3,2]\n",
    "working =[7,8,7,2,2]\n",
    "playing = [8,5,7,8,13]\n",
    "  \n",
    "plt.plot([],[],color='m', label='Sleeping', linewidth=5)\n",
    "plt.plot([],[],color='c', label='Eating', linewidth=5)\n",
    "plt.plot([],[],color='r', label='Working', linewidth=5)\n",
    "plt.plot([],[],color='k', label='Playing', linewidth=5)\n",
    "  \n",
    "plt.stackplot(days, sleeping,eating,working,playing, colors=['y','r','b','k'])\n",
    "  \n",
    "plt.xlabel('x')\n",
    "plt.ylabel('y')\n",
    "plt.title('Stack Plot')\n",
    "plt.legend()\n",
    "plt.show()"
   ]
  },
  {
   "cell_type": "code",
   "execution_count": null,
   "metadata": {},
   "outputs": [],
   "source": [
    "#drawing pie chart\n",
    " \n",
    "days = [1,2,3,4,5]\n",
    " \n",
    "sleeping =[7,8,6,11,7]\n",
    "eating = [2,3,4,3,2]\n",
    "working =[7,8,7,2,2]\n",
    "playing = [8,5,7,8,13]\n",
    "slices = [7,2,2,13]\n",
    "activities = ['sleeping','eating','working','playing']\n",
    "cols = ['c','m','r','b']\n",
    " \n",
    "plt.pie(slices,\n",
    "  labels=activities,\n",
    "  colors=cols,\n",
    "  startangle=90,\n",
    "  shadow= True,\n",
    "  explode=(0,0.1,0,0),\n",
    "  autopct='%1.1f%%')\n",
    " \n",
    "plt.title('Pie Plot')\n",
    "plt.show()"
   ]
  },
  {
   "cell_type": "code",
   "execution_count": null,
   "metadata": {},
   "outputs": [],
   "source": [
    "def f(t):\n",
    "    return np.exp(-t) * np.cos(2*np.pi*t)\n",
    "t1 = np.arange(0.0, 5.0, 0.1)\n",
    "t2 = np.arange(0.0, 5.0, 0.02)\n",
    "plt.subplot(221)\n",
    "plt.plot(t1, f(t1), 'bo', t2, f(t2))\n",
    "plt.subplot(222)\n",
    "plt.plot(t2, np.cos(2*np.pi*t2))\n",
    "plt.show()"
   ]
  },
  {
   "cell_type": "code",
   "execution_count": null,
   "metadata": {},
   "outputs": [],
   "source": [
    "#drawing with pandas\n",
    "ts = pd.Series(np.random.randn(1000),index=pd.date_range('1/1/2017', periods=1000))\n",
    "\n",
    "ts = ts.cumsum()\n",
    "\n",
    "ts.plot()"
   ]
  },
  {
   "cell_type": "code",
   "execution_count": null,
   "metadata": {},
   "outputs": [],
   "source": [
    "#drawing multiple time series\n",
    "df = pd.DataFrame(np.random.randn(1000, 4),index=ts.index, columns=list('ABCD'))\n",
    "\n",
    "df = df.cumsum()\n",
    "\n",
    "plt.figure()\n",
    "\n",
    "df.plot()"
   ]
  },
  {
   "cell_type": "code",
   "execution_count": null,
   "metadata": {},
   "outputs": [],
   "source": [
    "#plotting bar graph\n",
    "plt.figure()\n",
    "df.iloc[5].plot(kind='bar',color='r')"
   ]
  },
  {
   "cell_type": "code",
   "execution_count": null,
   "metadata": {},
   "outputs": [],
   "source": [
    "#plotting multiple bar graph\n",
    "df2 = pd.DataFrame(np.random.rand(10, 4), columns=['a', 'b', 'c', 'd'])\n",
    "\n",
    "df2.plot.bar()"
   ]
  },
  {
   "cell_type": "code",
   "execution_count": null,
   "metadata": {},
   "outputs": [],
   "source": [
    "#plotting stacked vertical bar graph\n",
    "df2.plot.bar(stacked=True)"
   ]
  },
  {
   "cell_type": "code",
   "execution_count": null,
   "metadata": {},
   "outputs": [],
   "source": [
    "#plotting stacked horizontal bar graph\n",
    "df2.plot.barh(stacked=True)"
   ]
  },
  {
   "cell_type": "code",
   "execution_count": null,
   "metadata": {},
   "outputs": [],
   "source": [
    "#plotting histogram\n",
    "df['A'].diff().hist()"
   ]
  },
  {
   "cell_type": "code",
   "execution_count": null,
   "metadata": {},
   "outputs": [],
   "source": [
    "#plotting area \n",
    "df = pd.DataFrame(np.random.rand(10, 4), columns=['a', 'b', 'c', 'd'])\n",
    "\n",
    "df.plot.area()"
   ]
  },
  {
   "cell_type": "code",
   "execution_count": null,
   "metadata": {},
   "outputs": [],
   "source": [
    "#plotting scatter graph\n",
    "df = pd.DataFrame(np.random.rand(50, 4), columns=['a', 'b', 'c', 'd'])\n",
    "\n",
    "df.plot.scatter(x='a', y='b')"
   ]
  },
  {
   "cell_type": "code",
   "execution_count": null,
   "metadata": {},
   "outputs": [],
   "source": [
    "#plotting \n",
    "ax = df.plot.scatter(x='a', y='b', color='DarkBlue', label='Group 1')\n",
    "df.plot.scatter(x='c', y='d', color='Red', label='Group 2', ax=ax)"
   ]
  },
  {
   "cell_type": "code",
   "execution_count": null,
   "metadata": {},
   "outputs": [],
   "source": [
    "#plotting grayscale scatter plot\n",
    "df.plot.scatter(x='a', y='b', c='c', s=50)"
   ]
  }
 ],
 "metadata": {
  "kernelspec": {
   "display_name": "Python 3",
   "language": "python",
   "name": "python3"
  },
  "language_info": {
   "codemirror_mode": {
    "name": "ipython",
    "version": 3
   },
   "file_extension": ".py",
   "mimetype": "text/x-python",
   "name": "python",
   "nbconvert_exporter": "python",
   "pygments_lexer": "ipython3",
   "version": "3.7.4"
  }
 },
 "nbformat": 4,
 "nbformat_minor": 2
}
