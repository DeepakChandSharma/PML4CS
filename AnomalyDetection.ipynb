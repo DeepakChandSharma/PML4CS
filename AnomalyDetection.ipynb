{
 "cells": [
  {
   "cell_type": "code",
   "execution_count": 14,
   "metadata": {},
   "outputs": [],
   "source": [
    "#import\n",
    "import numpy as np\n",
    "from sklearn.datasets import fetch_kddcup99\n",
    "from sklearn.neighbors import KernelDensity"
   ]
  },
  {
   "cell_type": "code",
   "execution_count": 15,
   "metadata": {},
   "outputs": [
    {
     "name": "stdout",
     "output_type": "stream",
     "text": [
      "Statuses: [b'back.' b'ipsweep.' b'normal.' b'phf.' b'satan.']\n",
      "Normal samples: 56516\n",
      "Anomalies: 2209\n"
     ]
    }
   ],
   "source": [
    "#Load 10% of kddcup99 dataset with subset = http\n",
    "kddcup99 = fetch_kddcup99(subset='http', percent10=True, random_state=1000)\n",
    "\n",
    "X = kddcup99['data'].astype(np.float64)\n",
    "Y = kddcup99['target']\n",
    "\n",
    "print('Statuses: {}'.format(np.unique(Y)))\n",
    "print('Normal samples: {}'.format(X[Y == b'normal.'].shape[0]))\n",
    "print('Anomalies: {}'.format(X[Y != b'normal.'].shape[0]))"
   ]
  },
  {
   "cell_type": "code",
   "execution_count": 13,
   "metadata": {},
   "outputs": [
    {
     "data": {
      "text/plain": [
       "array([-0.41075698, -0.41075698, -0.41076071, -0.41075698, -0.41075698,\n",
       "       -0.41076071])"
      ]
     },
     "execution_count": 13,
     "metadata": {},
     "output_type": "execute_result"
    }
   ],
   "source": [
    "X = np.array([[-1, -1], [-2, -1], [-3, -2], [1, 1], [2, 1], [3, 2]])\n",
    "kde = KernelDensity(kernel='gaussian', bandwidth=0.2).fit(X)\n",
    "kde.score_samples(X)"
   ]
  },
  {
   "cell_type": "code",
   "execution_count": 12,
   "metadata": {},
   "outputs": [
    {
     "data": {
      "text/plain": [
       "KernelDensity(algorithm='auto', atol=0, bandwidth=0.025, breadth_first=True,\n",
       "              kernel='gaussian', leaf_size=40, metric='euclidean',\n",
       "              metric_params=None, rtol=0)"
      ]
     },
     "execution_count": 12,
     "metadata": {},
     "output_type": "execute_result"
    }
   ],
   "source": [
    "#Firt the KernelDensity with gaussian kernel and bandwidth=0.025\n",
    "X = X[:, 1:]\n",
    "\n",
    "kd = KernelDensity(kernel='gaussian', bandwidth=0.025)\n",
    "kd.fit(X[Y == b'normal.'])"
   ]
  },
  {
   "cell_type": "code",
   "execution_count": 6,
   "metadata": {},
   "outputs": [
    {
     "name": "stdout",
     "output_type": "stream",
     "text": [
      "Mean normal: 0.39588 - Std: 0.25755\n",
      "Mean anomalies: 0.00008 - Std: 0.00374\n"
     ]
    }
   ],
   "source": [
    "Yn = np.exp(kd.score_samples(X[Y == b'normal.']))\n",
    "Ya = np.exp(kd.score_samples(X[Y != b'normal.']))\n",
    "\n",
    "print('Mean normal: {:.5f} - Std: {:.5f}'.format(np.mean(Yn), np.std(Yn)))\n",
    "print('Mean anomalies: {:.5f} - Std: {:.5f}'.format(np.mean(Ya), np.std(Ya)))"
   ]
  },
  {
   "cell_type": "code",
   "execution_count": 11,
   "metadata": {},
   "outputs": [
    {
     "name": "stdout",
     "output_type": "stream",
     "text": [
      "3147\n",
      "1778\n",
      "1037\n",
      "702\n",
      "2208\n"
     ]
    }
   ],
   "source": [
    "print(np.sum(Yn < 0.05))\n",
    "print(np.sum(Yn < 0.03))\n",
    "print(np.sum(Yn < 0.02))\n",
    "print(np.sum(Yn < 0.015))\n",
    "print(np.sum(Ya < 0.015))"
   ]
  },
  {
   "cell_type": "code",
   "execution_count": 8,
   "metadata": {},
   "outputs": [],
   "source": [
    "def is_anomaly(kd, source, destination, medium_thr=0.03, high_thr=0.015):\n",
    "    xs = np.log(source + 0.1)\n",
    "    xd = np.log(destination + 0.1)\n",
    "    data = np.array([[xs, xd]])\n",
    "    \n",
    "    density = np.exp(kd.score_samples(data))[0]\n",
    "    \n",
    "    if density >= medium_thr:\n",
    "        return density, 'Normal connection'\n",
    "    elif density >= high_thr:\n",
    "        return density, 'Medium risk'\n",
    "    else:\n",
    "        return density, 'High risk'"
   ]
  },
  {
   "cell_type": "code",
   "execution_count": 9,
   "metadata": {},
   "outputs": [
    {
     "name": "stdout",
     "output_type": "stream",
     "text": [
      "p = 0.30 - Normal connection\n",
      "p = 0.02 - Medium risk\n",
      "p = 0.00 - High risk\n"
     ]
    }
   ],
   "source": [
    "print('p = {:.2f} - {}'.format(*is_anomaly(kd, 200, 1100)))\n",
    "print('p = {:.2f} - {}'.format(*is_anomaly(kd, 360, 200)))\n",
    "print('p = {:.2f} - {}'.format(*is_anomaly(kd, 800, 1800)))"
   ]
  }
 ],
 "metadata": {
  "kernelspec": {
   "display_name": "Python 3",
   "language": "python",
   "name": "python3"
  },
  "language_info": {
   "codemirror_mode": {
    "name": "ipython",
    "version": 3
   },
   "file_extension": ".py",
   "mimetype": "text/x-python",
   "name": "python",
   "nbconvert_exporter": "python",
   "pygments_lexer": "ipython3",
   "version": "3.7.4"
  }
 },
 "nbformat": 4,
 "nbformat_minor": 2
}
