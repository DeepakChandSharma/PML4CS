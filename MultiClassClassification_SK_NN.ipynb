{
 "cells": [
  {
   "cell_type": "code",
   "execution_count": 1,
   "metadata": {},
   "outputs": [],
   "source": [
    "#import section\n",
    "import matplotlib.pyplot as plt\n",
    "from sklearn.model_selection import train_test_split\n",
    "from sklearn import metrics\n",
    "from sklearn import datasets\n",
    "from sklearn.neural_network import MLPClassifier"
   ]
  },
  {
   "cell_type": "code",
   "execution_count": 4,
   "metadata": {},
   "outputs": [
    {
     "data": {
      "text/plain": [
       "['DESCR', 'data', 'images', 'target', 'target_names']"
      ]
     },
     "execution_count": 4,
     "metadata": {},
     "output_type": "execute_result"
    }
   ],
   "source": [
    "#load dataset\n",
    "digits = datasets.load_digits()\n",
    "dir(digits)\n",
    "#print(digits.data.shape)\n",
    "#print(digits.DESCR)"
   ]
  },
  {
   "cell_type": "code",
   "execution_count": 9,
   "metadata": {},
   "outputs": [
    {
     "name": "stdout",
     "output_type": "stream",
     "text": [
      "[[ 0.  4. 16. 16. 16. 16.  5.  0.]\n",
      " [ 0. 11. 16.  8.  5.  8.  3.  0.]\n",
      " [ 0. 10. 16.  2.  0.  0.  0.  0.]\n",
      " [ 0.  3. 16.  6.  0.  0.  0.  0.]\n",
      " [ 0.  0. 16.  9.  0.  0.  0.  0.]\n",
      " [ 0.  0. 12. 16.  2.  0.  0.  0.]\n",
      " [ 0.  0.  6. 16. 11.  0.  0.  0.]\n",
      " [ 0.  4. 16. 12.  1.  0.  0.  0.]]\n",
      "5\n"
     ]
    },
    {
     "data": {
      "image/png": "[encoded data removed]",
      "text/plain": [
       "<Figure size 432x288 with 1 Axes>"
      ]
     },
     "metadata": {
      "needs_background": "light"
     },
     "output_type": "display_data"
    }
   ],
   "source": [
    "#examine data\n",
    "x = digits.images.reshape((len(digits.images), -1))\n",
    "x.shape\n",
    "y = digits.target\n",
    "y_names = digits.target_names\n",
    "#print(y_names)\n",
    "print(digits.images[204])\n",
    "print(digits.target[204])\n",
    "plt.imshow(digits.images[204],cmap='binary')\n",
    "plt.show()"
   ]
  },
  {
   "cell_type": "code",
   "execution_count": 10,
   "metadata": {},
   "outputs": [],
   "source": [
    "x_train, x_test, y_train, y_test = train_test_split(x, y, test_size = 0.2, random_state = 0) "
   ]
  },
  {
   "cell_type": "code",
   "execution_count": 20,
   "metadata": {},
   "outputs": [],
   "source": [
    "mlp = MLPClassifier(hidden_layer_sizes=(50,), activation='logistic', solver='sgd', random_state=1,\n",
    "                    learning_rate_init=.1, verbose=True)"
   ]
  },
  {
   "cell_type": "code",
   "execution_count": 21,
   "metadata": {},
   "outputs": [
    {
     "name": "stdout",
     "output_type": "stream",
     "text": [
      "Iteration 1, loss = 2.01956064\n",
      "Iteration 2, loss = 1.03441855\n",
      "Iteration 3, loss = 0.48026058\n",
      "Iteration 4, loss = 0.27472612\n",
      "Iteration 5, loss = 0.18245366\n",
      "Iteration 6, loss = 0.13568309\n",
      "Iteration 7, loss = 0.10848095\n",
      "Iteration 8, loss = 0.08932115\n",
      "Iteration 9, loss = 0.07928775\n",
      "Iteration 10, loss = 0.06838035\n",
      "Iteration 11, loss = 0.06107517\n",
      "Iteration 12, loss = 0.05450871\n",
      "Iteration 13, loss = 0.05011804\n",
      "Iteration 14, loss = 0.04659007\n",
      "Iteration 15, loss = 0.04065717\n",
      "Iteration 16, loss = 0.03701119\n",
      "Iteration 17, loss = 0.03415347\n",
      "Iteration 18, loss = 0.03171234\n",
      "Iteration 19, loss = 0.02951337\n",
      "Iteration 20, loss = 0.02776868\n",
      "Iteration 21, loss = 0.02647150\n",
      "Iteration 22, loss = 0.02700499\n",
      "Iteration 23, loss = 0.02411282\n",
      "Iteration 24, loss = 0.02256893\n",
      "Iteration 25, loss = 0.02296810\n",
      "Iteration 26, loss = 0.02133248\n",
      "Iteration 27, loss = 0.02114662\n",
      "Iteration 28, loss = 0.01914371\n",
      "Iteration 29, loss = 0.01825608\n",
      "Iteration 30, loss = 0.01789759\n",
      "Iteration 31, loss = 0.01735679\n",
      "Iteration 32, loss = 0.01614969\n",
      "Iteration 33, loss = 0.01552246\n",
      "Iteration 34, loss = 0.01524180\n",
      "Iteration 35, loss = 0.01485543\n",
      "Iteration 36, loss = 0.01435529\n",
      "Iteration 37, loss = 0.01387949\n",
      "Iteration 38, loss = 0.01325773\n",
      "Iteration 39, loss = 0.01295916\n",
      "Iteration 40, loss = 0.01262143\n",
      "Iteration 41, loss = 0.01265398\n",
      "Iteration 42, loss = 0.01223063\n",
      "Iteration 43, loss = 0.01181405\n",
      "Iteration 44, loss = 0.01178581\n",
      "Iteration 45, loss = 0.01125745\n",
      "Iteration 46, loss = 0.01101355\n",
      "Iteration 47, loss = 0.01075848\n",
      "Iteration 48, loss = 0.01035901\n",
      "Iteration 49, loss = 0.01017750\n",
      "Iteration 50, loss = 0.00989585\n",
      "Iteration 51, loss = 0.00974394\n",
      "Iteration 52, loss = 0.00954162\n",
      "Iteration 53, loss = 0.00933205\n",
      "Iteration 54, loss = 0.00910271\n",
      "Iteration 55, loss = 0.00891355\n",
      "Iteration 56, loss = 0.00879418\n",
      "Iteration 57, loss = 0.00861186\n",
      "Iteration 58, loss = 0.00844194\n",
      "Iteration 59, loss = 0.00822964\n",
      "Iteration 60, loss = 0.00814748\n",
      "Iteration 61, loss = 0.00794165\n",
      "Iteration 62, loss = 0.00782950\n",
      "Iteration 63, loss = 0.00768905\n",
      "Iteration 64, loss = 0.00756701\n",
      "Iteration 65, loss = 0.00751530\n",
      "Iteration 66, loss = 0.00739151\n",
      "Iteration 67, loss = 0.00729681\n",
      "Iteration 68, loss = 0.00727540\n",
      "Iteration 69, loss = 0.00705827\n",
      "Iteration 70, loss = 0.00701189\n",
      "Iteration 71, loss = 0.00679924\n",
      "Iteration 72, loss = 0.00666408\n",
      "Iteration 73, loss = 0.00663161\n",
      "Iteration 74, loss = 0.00654896\n",
      "Iteration 75, loss = 0.00638731\n",
      "Iteration 76, loss = 0.00628984\n",
      "Iteration 77, loss = 0.00615401\n",
      "Iteration 78, loss = 0.00609271\n",
      "Iteration 79, loss = 0.00603045\n",
      "Iteration 80, loss = 0.00593495\n",
      "Iteration 81, loss = 0.00583168\n",
      "Iteration 82, loss = 0.00578563\n",
      "Iteration 83, loss = 0.00569803\n",
      "Iteration 84, loss = 0.00564301\n",
      "Iteration 85, loss = 0.00553244\n",
      "Iteration 86, loss = 0.00548121\n",
      "Iteration 87, loss = 0.00540091\n",
      "Iteration 88, loss = 0.00533391\n",
      "Iteration 89, loss = 0.00527124\n",
      "Iteration 90, loss = 0.00524865\n",
      "Iteration 91, loss = 0.00516201\n",
      "Iteration 92, loss = 0.00516687\n",
      "Iteration 93, loss = 0.00506059\n",
      "Iteration 94, loss = 0.00499089\n",
      "Iteration 95, loss = 0.00491019\n",
      "Iteration 96, loss = 0.00488740\n",
      "Iteration 97, loss = 0.00483986\n",
      "Iteration 98, loss = 0.00480068\n",
      "Iteration 99, loss = 0.00473147\n",
      "Iteration 100, loss = 0.00470981\n",
      "Iteration 101, loss = 0.00462050\n",
      "Iteration 102, loss = 0.00459081\n",
      "Iteration 103, loss = 0.00455652\n",
      "Iteration 104, loss = 0.00453700\n",
      "Training loss did not improve more than tol=0.000100 for 10 consecutive epochs. Stopping.\n"
     ]
    },
    {
     "data": {
      "text/plain": [
       "MLPClassifier(activation='logistic', alpha=0.0001, batch_size='auto',\n",
       "              beta_1=0.9, beta_2=0.999, early_stopping=False, epsilon=1e-08,\n",
       "              hidden_layer_sizes=(50,), learning_rate='constant',\n",
       "              learning_rate_init=0.1, max_iter=200, momentum=0.9,\n",
       "              n_iter_no_change=10, nesterovs_momentum=True, power_t=0.5,\n",
       "              random_state=1, shuffle=True, solver='sgd', tol=0.0001,\n",
       "              validation_fraction=0.1, verbose=True, warm_start=False)"
      ]
     },
     "execution_count": 21,
     "metadata": {},
     "output_type": "execute_result"
    }
   ],
   "source": [
    "mlp.fit(x_train,y_train)"
   ]
  },
  {
   "cell_type": "code",
   "execution_count": 22,
   "metadata": {},
   "outputs": [],
   "source": [
    "predictions = mlp.predict(x_test)"
   ]
  },
  {
   "cell_type": "code",
   "execution_count": 23,
   "metadata": {},
   "outputs": [
    {
     "data": {
      "text/plain": [
       "0.9777777777777777"
      ]
     },
     "execution_count": 23,
     "metadata": {},
     "output_type": "execute_result"
    }
   ],
   "source": [
    "metrics.accuracy_score(y_test, predictions)"
   ]
  },
  {
   "cell_type": "code",
   "execution_count": null,
   "metadata": {},
   "outputs": [],
   "source": []
  }
 ],
 "metadata": {
  "kernelspec": {
   "display_name": "Python 3",
   "language": "python",
   "name": "python3"
  },
  "language_info": {
   "codemirror_mode": {
    "name": "ipython",
    "version": 3
   },
   "file_extension": ".py",
   "mimetype": "text/x-python",
   "name": "python",
   "nbconvert_exporter": "python",
   "pygments_lexer": "ipython3",
   "version": "3.7.4"
  }
 },
 "nbformat": 4,
 "nbformat_minor": 2
}
